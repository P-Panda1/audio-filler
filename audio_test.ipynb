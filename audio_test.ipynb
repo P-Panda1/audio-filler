{
 "cells": [
  {
   "cell_type": "code",
   "execution_count": 1,
   "id": "1b8f899f",
   "metadata": {},
   "outputs": [],
   "source": [
    "from pydub import AudioSegment\n",
    "import os"
   ]
  },
  {
   "cell_type": "code",
   "execution_count": 2,
   "id": "8e65e5fc",
   "metadata": {},
   "outputs": [],
   "source": [
    "path = \"~/data/musicnet/music/022021.mp3\"\n",
    "path = os.path.expanduser(path)"
   ]
  },
  {
   "cell_type": "code",
   "execution_count": 3,
   "id": "af431bbb",
   "metadata": {},
   "outputs": [
    {
     "data": {
      "text/plain": [
       "<_io.BufferedRandom name='converted_audio.wav'>"
      ]
     },
     "execution_count": 3,
     "metadata": {},
     "output_type": "execute_result"
    }
   ],
   "source": [
    "# Load MP3 file\n",
    "audio = AudioSegment.from_mp3(path)\n",
    "\n",
    "# Export as WAV\n",
    "audio.export(\"converted_audio.wav\", format=\"wav\")"
   ]
  },
  {
   "cell_type": "code",
   "execution_count": 10,
   "id": "e4cb65a4",
   "metadata": {},
   "outputs": [],
   "source": [
    "import plotly.graph_objects as go\n",
    "from plotly.subplots import make_subplots\n",
    "import numpy as np\n",
    "from pydub import AudioSegment, silence\n",
    "import librosa\n",
    "import base64\n",
    "from io import BytesIO\n",
    "\n",
    "# Function to convert MP3 to audio array\n",
    "def load_audio(file_path):\n",
    "    \"\"\"Load audio file and return samples and sample rate\"\"\"\n",
    "    audio = AudioSegment.from_file(file_path)\n",
    "    samples = np.array(audio.get_array_of_samples())\n",
    "    if audio.channels == 2:\n",
    "        samples = samples.reshape((-1, 2))\n",
    "        # For stereo, let's use the average of both channels\n",
    "        samples = np.mean(samples, axis=1)\n",
    "    \n",
    "    return samples, audio.frame_rate, audio.duration_seconds\n",
    "\n",
    "# Function to detect non-silent segments\n",
    "def detect_recordings(audio_segment, min_silence_len=500, silence_thresh=-40):\n",
    "    \"\"\"Detect non-silent segments in audio\"\"\"\n",
    "    non_silent_ranges = silence.detect_nonsilent(\n",
    "        audio_segment, \n",
    "        min_silence_len=min_silence_len, \n",
    "        silence_thresh=silence_thresh\n",
    "    )\n",
    "    return non_silent_ranges\n",
    "\n",
    "# Function to create interactive plot\n",
    "def create_interactive_audio_plot(samples, sample_rate, duration, segments):\n",
    "    \"\"\"Create an interactive Plotly visualization of the audio\"\"\"\n",
    "    # Create time axis\n",
    "    time = np.linspace(0, duration, num=len(samples))\n",
    "    \n",
    "    # Create subplots: waveform on top, recording density on bottom\n",
    "    fig = make_subplots(\n",
    "        rows=2, cols=1,\n",
    "        subplot_titles=('Audio Waveform', 'Recording Density per 10-Second Segment'),\n",
    "        vertical_spacing=0.1,\n",
    "        row_heights=[0.7, 0.3]\n",
    "    )\n",
    "    \n",
    "    # Add waveform trace\n",
    "    fig.add_trace(\n",
    "        go.Scatter(\n",
    "            x=time, \n",
    "            y=samples,\n",
    "            mode='lines',\n",
    "            line=dict(color='royalblue', width=1),\n",
    "            name='Waveform',\n",
    "            hovertemplate='Time: %{x:.2f}s<br>Amplitude: %{y}<extra></extra>'\n",
    "        ),\n",
    "        row=1, col=1\n",
    "    )\n",
    "    \n",
    "    # Calculate recording density per 10-second segment\n",
    "    segment_duration = 10  # seconds\n",
    "    num_segments = int(np.ceil(duration / segment_duration))\n",
    "    densities = []\n",
    "    \n",
    "    for i in range(num_segments):\n",
    "        start_time = i * segment_duration\n",
    "        end_time = min((i + 1) * segment_duration, duration)\n",
    "        \n",
    "        # Count recordings in this segment\n",
    "        count = 0\n",
    "        for seg_start, seg_end in segments:\n",
    "            seg_start_s = seg_start / 1000  # convert ms to seconds\n",
    "            seg_end_s = seg_end / 1000\n",
    "            # Check if recording overlaps with this time segment\n",
    "            if not (seg_end_s <= start_time or seg_start_s >= end_time):\n",
    "                count += 1\n",
    "                \n",
    "        densities.append(count)\n",
    "    \n",
    "    # Add density bar chart\n",
    "    segment_starts = [i * segment_duration for i in range(num_segments)]\n",
    "    segment_centers = [i * segment_duration + segment_duration/2 for i in range(num_segments)]\n",
    "    \n",
    "    fig.add_trace(\n",
    "        go.Bar(\n",
    "            x=segment_centers,\n",
    "            y=densities,\n",
    "            width=segment_duration * 0.8,\n",
    "            name='Recordings per 10s',\n",
    "            marker_color='coral',\n",
    "            hovertemplate='Segment: %{x:.1f}s<br>Recordings: %{y}<extra></extra>'\n",
    "        ),\n",
    "        row=2, col=1\n",
    "    )\n",
    "    \n",
    "    # Add vertical lines for segment boundaries\n",
    "    for i in range(1, num_segments):\n",
    "        fig.add_vline(\n",
    "            x=i * segment_duration, \n",
    "            line=dict(color=\"gray\", width=1, dash=\"dash\"),\n",
    "            row=1, col=1\n",
    "        )\n",
    "        fig.add_vline(\n",
    "            x=i * segment_duration, \n",
    "            line=dict(color=\"gray\", width=1, dash=\"dash\"),\n",
    "            row=2, col=1\n",
    "        )\n",
    "    \n",
    "    # Add rectangles for non-silent segments\n",
    "    for seg_start, seg_end in segments:\n",
    "        seg_start_s = seg_start / 1000  # convert ms to seconds\n",
    "        seg_end_s = seg_end / 1000\n",
    "        fig.add_vrect(\n",
    "            x0=seg_start_s, x1=seg_end_s,\n",
    "            fillcolor=\"lightgreen\", opacity=0.2,\n",
    "            line_width=0, row=1, col=1\n",
    "        )\n",
    "    \n",
    "    # Update layout\n",
    "    fig.update_layout(\n",
    "        height=800,\n",
    "        title_text=\"Audio Analysis Dashboard\",\n",
    "        showlegend=False,\n",
    "        hovermode='x unified'\n",
    "    )\n",
    "    \n",
    "    # Update axes\n",
    "    fig.update_xaxes(title_text=\"Time (seconds)\", row=1, col=1)\n",
    "    fig.update_xaxes(title_text=\"Time (seconds)\", row=2, col=1)\n",
    "    fig.update_yaxes(title_text=\"Amplitude\", row=1, col=1)\n",
    "    fig.update_yaxes(title_text=\"Number of Recordings\", row=2, col=1)\n",
    "    \n",
    "    return fig, densities\n",
    "\n",
    "# Function to clip audio into 10-second segments\n",
    "def clip_audio_segments(audio, output_prefix=\"segment\"):\n",
    "    \"\"\"Clip audio into 10-second segments and save them\"\"\"\n",
    "    segment_length = 10 * 1000  # 10 seconds in milliseconds\n",
    "    total_duration = len(audio)\n",
    "    segments = []\n",
    "    \n",
    "    for i, start_time in enumerate(range(0, total_duration, segment_length)):\n",
    "        end_time = min(start_time + segment_length, total_duration)\n",
    "        segment = audio[start_time:end_time]\n",
    "        filename = f\"{output_prefix}_{i+1}.wav\"\n",
    "        segment.export(filename, format=\"wav\")\n",
    "        segments.append(filename)\n",
    "    \n",
    "    return segments\n",
    "\n",
    "# Main execution\n",
    "def analyze_audio(file_path):\n",
    "    \"\"\"Main function to analyze audio file\"\"\"\n",
    "    # Load audio\n",
    "    samples, sample_rate, duration = load_audio(file_path)\n",
    "    \n",
    "    # Load audio for silence detection (pydub)\n",
    "    audio_pydub = AudioSegment.from_file(file_path)\n",
    "    \n",
    "    # Detect recordings (non-silent segments)\n",
    "    recordings = detect_recordings(audio_pydub)\n",
    "    \n",
    "    # Create interactive plot\n",
    "    fig, densities = create_interactive_audio_plot(\n",
    "        samples, sample_rate, duration, recordings\n",
    "    )\n",
    "    \n",
    "    # Clip audio into 10-second segments\n",
    "    segments = clip_audio_segments(audio_pydub)\n",
    "    \n",
    "    return fig, densities, segments, duration\n",
    "\n"
   ]
  },
  {
   "cell_type": "code",
   "execution_count": 11,
   "id": "62ac7af9",
   "metadata": {},
   "outputs": [
    {
     "name": "stdout",
     "output_type": "stream",
     "text": [
      "Interactive plot saved as 'audio_analysis.html'. Open this file in your browser to view.\n",
      "Audio duration: 30.00 seconds\n",
      "Number of 10-second segments: 4\n",
      "Segment 1: 1 recordings\n",
      "Segment 2: 1 recordings\n",
      "Segment 3: 1 recordings\n",
      "Segment 4: 1 recordings\n",
      "\n",
      "Clipped audio saved as: ['segment_1.wav', 'segment_2.wav', 'segment_3.wav', 'segment_4.wav']\n"
     ]
    }
   ],
   "source": [
    "fig, densities, segments, duration = analyze_audio(path)\n",
    "    \n",
    "# Save plot as HTML file instead of showing it\n",
    "fig.write_html(\"audio_analysis.html\")\n",
    "print(\"Interactive plot saved as 'audio_analysis.html'. Open this file in your browser to view.\")\n",
    "\n",
    "# Print results\n",
    "print(f\"Audio duration: {duration:.2f} seconds\")\n",
    "print(f\"Number of 10-second segments: {len(densities)}\")\n",
    "for i, density in enumerate(densities):\n",
    "    print(f\"Segment {i+1}: {density} recordings\")\n",
    "\n",
    "print(f\"\\nClipped audio saved as: {segments}\")"
   ]
  },
  {
   "cell_type": "code",
   "execution_count": 12,
   "id": "e83e9bac",
   "metadata": {},
   "outputs": [
    {
     "data": {
      "text/plain": [
       "13"
      ]
     },
     "execution_count": 12,
     "metadata": {},
     "output_type": "execute_result"
    }
   ],
   "source": [
    "len(segments[0])"
   ]
  },
  {
   "cell_type": "code",
   "execution_count": 13,
   "id": "96685a2f",
   "metadata": {},
   "outputs": [
    {
     "data": {
      "text/plain": [
       "'segment_1.wav'"
      ]
     },
     "execution_count": 13,
     "metadata": {},
     "output_type": "execute_result"
    }
   ],
   "source": [
    "segments[0]"
   ]
  },
  {
   "cell_type": "code",
   "execution_count": null,
   "id": "633110b1",
   "metadata": {},
   "outputs": [],
   "source": []
  }
 ],
 "metadata": {
  "kernelspec": {
   "display_name": "audio-filler",
   "language": "python",
   "name": "python3"
  },
  "language_info": {
   "codemirror_mode": {
    "name": "ipython",
    "version": 3
   },
   "file_extension": ".py",
   "mimetype": "text/x-python",
   "name": "python",
   "nbconvert_exporter": "python",
   "pygments_lexer": "ipython3",
   "version": "3.11.13"
  }
 },
 "nbformat": 4,
 "nbformat_minor": 5
}
