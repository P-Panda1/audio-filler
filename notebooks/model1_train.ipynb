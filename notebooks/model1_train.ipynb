{
 "cells": [
  {
   "cell_type": "markdown",
   "id": "b473eb36",
   "metadata": {},
   "source": [
    "## This is the training file for the local model which stands as a proof of concept currently"
   ]
  },
  {
   "cell_type": "code",
   "execution_count": null,
   "id": "54e66df1",
   "metadata": {},
   "outputs": [],
   "source": []
  }
 ],
 "metadata": {
  "language_info": {
   "name": "python"
  }
 },
 "nbformat": 4,
 "nbformat_minor": 5
}
